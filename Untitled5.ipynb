{
 "cells": [
  {
   "cell_type": "code",
   "execution_count": null,
   "metadata": {},
   "outputs": [],
   "source": [
    "import cv2\n",
    "import numpy as np\n",
    "\n",
    "# Load image, grayscale, Gaussian blur, Otsus threshold\n",
    "image = cv2.imread('sample/vessel1.png')\n",
    "gray = cv2.cvtColor(image, cv2.COLOR_BGR2GRAY)\n",
    "blur = cv2.GaussianBlur(gray, (3,3), 0)\n",
    "thresh = cv2.threshold(blur, 0, 255, cv2.THRESH_BINARY + cv2.THRESH_OTSU)[1]\n",
    "\n",
    "# Find horizonal lines\n",
    "horizontal_kernel = cv2.getStructuringElement(cv2.MORPH_RECT, (10,1))\n",
    "horizontal = cv2.morphologyEx(thresh, cv2.MORPH_OPEN, horizontal_kernel, iterations=2)\n",
    "\n",
    "# Find vertical lines\n",
    "vertical_kernel = cv2.getStructuringElement(cv2.MORPH_RECT, (1,10))\n",
    "vertical = cv2.morphologyEx(thresh, cv2.MORPH_OPEN, vertical_kernel, iterations=2)\n",
    "\n",
    "# Find joints\n",
    "joints = cv2.bitwise_and(horizontal, vertical)\n",
    "\n",
    "# Find centroid of the joints\n",
    "cnts = cv2.findContours(joints, cv2.RETR_EXTERNAL, cv2.CHAIN_APPROX_SIMPLE)\n",
    "cnts = cnts[0] if len(cnts) == 2 else cnts[1]\n",
    "for c in cnts:\n",
    "    # Find centroid and draw center point\n",
    "    M = cv2.moments(c)\n",
    "    if(M[\"m00\"]==0): # this is a line\n",
    "        shape = \"line\" \n",
    "    else: \n",
    "        cx = int(M['m10']/M['m00'])\n",
    "        cy = int(M['m01']/M['m00'])\n",
    "        cv2.circle(image, (cx, cy), 3, (36,255,12), -1)\n",
    "\n",
    "cv2.imshow('thresh', thresh)\n",
    "cv2.imshow('horizontal', horizontal)\n",
    "cv2.imshow('vertical', vertical)\n",
    "cv2.imshow('joints', joints)\n",
    "cv2.imshow('image', image)\n",
    "cv2.waitKey()"
   ]
  },
  {
   "cell_type": "code",
   "execution_count": null,
   "metadata": {},
   "outputs": [],
   "source": []
  }
 ],
 "metadata": {
  "kernelspec": {
   "display_name": "Python 3",
   "language": "python",
   "name": "python3"
  },
  "language_info": {
   "codemirror_mode": {
    "name": "ipython",
    "version": 3
   },
   "file_extension": ".py",
   "mimetype": "text/x-python",
   "name": "python",
   "nbconvert_exporter": "python",
   "pygments_lexer": "ipython3",
   "version": "3.8.3"
  }
 },
 "nbformat": 4,
 "nbformat_minor": 4
}
