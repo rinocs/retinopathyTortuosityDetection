{
 "cells": [
  {
   "cell_type": "code",
   "execution_count": 3,
   "metadata": {},
   "outputs": [
    {
     "name": "stdout",
     "output_type": "stream",
     "text": [
      "True\n"
     ]
    },
    {
     "data": {
      "text/plain": [
       "<matplotlib.image.AxesImage at 0x1f6103b2e50>"
      ]
     },
     "execution_count": 3,
     "metadata": {},
     "output_type": "execute_result"
    },
    {
     "data": {
      "image/png": "[encoded data removed]",
      "text/plain": [
       "<Figure size 432x288 with 1 Axes>"
      ]
     },
     "metadata": {
      "needs_background": "light"
     },
     "output_type": "display_data"
    }
   ],
   "source": [
    "\n",
    "\n",
    "%matplotlib inline\n",
    "\n",
    "import scipy.ndimage as snd\n",
    "import cv2\n",
    "import numpy as np\n",
    "from skimage import color, feature, filters, io\n",
    "from skimage.morphology import skeletonize,medial_axis\n",
    "import sys\n",
    "import matplotlib.pyplot as plt\n",
    "import matplotlib.cm\n",
    "np.set_printoptions(threshold=sys.maxsize)\n",
    "\n",
    "def get_uint_image(image):\n",
    "    \"\"\"\n",
    "    Returns the np_image converted to uint8 and multiplied by 255 to simulate grayscale\n",
    "    :return: a ndarray image\n",
    "    \"\"\"\n",
    "    #image = np.uint8(image) *255\n",
    "    img = image.astype(np.uint8) * 255\n",
    "    return img\n",
    "\n",
    "img = cv2.imread('sample/vessel1.png')\n",
    "\n",
    "if img is None:\n",
    "    print('Error loading image')\n",
    "    exit()\n",
    "frame = cv2.cvtColor(img, cv2.COLOR_BGR2GRAY)\n",
    "#ret, bw_img = cv2.threshold(img,127,255,cv2.THRESH_BINARY)\n",
    "ret, frame = cv2.threshold(frame, 127, 1, cv2.THRESH_BINARY)\n",
    "#ret,frame = cv2.threshold(img,127,255,0)\n",
    "#binary = frame > filters.threshold_otsu(frame)\n",
    "#np.unique(binary)\n",
    "\n",
    "skel, distance = medial_axis(frame, return_distance=True)\n",
    "\n",
    "skeleton = skeletonize(frame)\n",
    "# Distance to the background for pixels of the skeleton\n",
    "dist_on_skel = distance * skel\n",
    "\n",
    "\n",
    "print(np.any(skeleton[:, :] == 1 ))\n",
    "colour_frame = img\n",
    "\n",
    "rows = frame.shape[0]\n",
    "cols = frame.shape[1]\n",
    "skeleton = get_uint_image(skeleton)\n",
    "\n",
    "A = skeleton\n",
    "A_orthog = A.copy() #this will be the copy we update to have orthogonal neighbors\n",
    "#Two diagonal kernels\n",
    "K_diag_upslope = np.array([[0,0,0],[0,0,1],[0,1,0]])\n",
    "K_diag_downslope = np.array([[0,0,0],[1,0,0],[0,1,0]])\n",
    "#Convolve each one, one at a time, and save new points to A_orthog\n",
    "#Note: the variable B is always an intermediary so I overwrite it every time\n",
    "B = snd.convolve(1*A,K_diag_upslope, mode='constant')\n",
    "A_orthog[B==2] = 1\n",
    "B = snd.convolve(1*A,K_diag_downslope, mode='constant')\n",
    "A_orthog[B==2] = 1\n",
    "\n",
    "#Now A_orthog should be ready for the method shown in my first bit of code up above\n",
    "\n",
    "K1 = snd.generate_binary_structure(2,1)\n",
    "B = snd.convolve(1*A_orthog,K1, mode='constant')\n",
    "image_of_branch_points = B>=4\n",
    "\n",
    "Abranch = 120*A + 240*image_of_branch_points\n",
    "\n",
    "\n",
    "plt.imshow(Abranch, interpolation='nearest', cmap=plt.cm.gray, aspect='auto')\n"
   ]
  },
  {
   "cell_type": "code",
   "execution_count": null,
   "metadata": {},
   "outputs": [],
   "source": []
  },
  {
   "cell_type": "code",
   "execution_count": null,
   "metadata": {},
   "outputs": [],
   "source": []
  }
 ],
 "metadata": {
  "kernelspec": {
   "display_name": "Python 3",
   "language": "python",
   "name": "python3"
  },
  "language_info": {
   "codemirror_mode": {
    "name": "ipython",
    "version": 3
   },
   "file_extension": ".py",
   "mimetype": "text/x-python",
   "name": "python",
   "nbconvert_exporter": "python",
   "pygments_lexer": "ipython3",
   "version": "3.8.3"
  }
 },
 "nbformat": 4,
 "nbformat_minor": 4
}
