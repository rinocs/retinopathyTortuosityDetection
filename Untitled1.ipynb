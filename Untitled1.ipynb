{
 "cells": [
  {
   "cell_type": "code",
   "execution_count": 11,
   "metadata": {
    "scrolled": true
   },
   "outputs": [
    {
     "name": "stdout",
     "output_type": "stream",
     "text": [
      "Mean computation time: 0.043901s\n",
      "Median computation time: 0.042892s\n",
      "Std computation time: 0.003923s\n"
     ]
    }
   ],
   "source": [
    "from __future__ import print_function\n",
    "from __future__ import division\n",
    "from timeit import default_timer as timer\n",
    "import argparse\n",
    "import numpy as np\n",
    "import cv2 as cv\n",
    "import os\n",
    "\n",
    "# parser = argparse.ArgumentParser(description='Test Harris corners rotation invariance.')\n",
    "# parser.add_argument('--input', default='', type=str, help='Input image path')\n",
    "# parser.add_argument('--save', default=False, type=bool, help='Save results')\n",
    "# parser.add_argument('--maxCorners', default=500, type=int, help='Maximum number of corners')\n",
    "# parser.add_argument('--qualityLevel', default=0.03, type=float, help='Minimal accepted quality of image corners')\n",
    "# parser.add_argument('--minDistance', default=11, type=int, help='Minimum possible Euclidean distance between the returned corners')\n",
    "# parser.add_argument('--blockSize', default=11, type=int, help='Size of an average block for computing a derivative covariation matrix over each pixel neighborhood')\n",
    "# args = parser.parse_args()\n",
    "\n",
    "harris_params = dict(maxCorners = 500,\n",
    "                     qualityLevel = 0.03,\n",
    "                     minDistance = 11,\n",
    "                     blockSize = 11,\n",
    "                     useHarrisDetector = True)\n",
    "# print('harris_params:\\n', harris_params)\n",
    "\n",
    "image_path = 'sample/vessel1.png'\n",
    "original_image = cv.imread('sample/vessel1.png')\n",
    "\n",
    "def play(video, name='video', wait=60, key='q'):\n",
    "    idx = 0\n",
    "    directory = 'OpenCV'\n",
    "    if not os.path.exists(directory):\n",
    "        os.makedirs(directory)\n",
    "\n",
    "    times = []\n",
    "    for f, elapsed_time in video:\n",
    "        times.append(elapsed_time)\n",
    "        cv.imshow(name, f)\n",
    "\n",
    "#         if args.save:\n",
    "#             filename = directory + '/Harris_OpenCV_%03d.png' % idx\n",
    "#             cv.imwrite(filename, f)\n",
    "#             idx += 1\n",
    "\n",
    "        if cv.waitKey(wait) == ord(key):\n",
    "            return\n",
    "\n",
    "    print('Mean computation time: {:f}s'.format(np.mean(times)))\n",
    "    print('Median computation time: {:f}s'.format(np.median(times)))\n",
    "    print('Std computation time: {:f}s'.format(np.std(times)))\n",
    "\n",
    "def rotate(image, theta, point=(0,0)):\n",
    "    M = cv.getRotationMatrix2D((point[1], point[0]), theta, 1)\n",
    "    return cv.warpAffine(image, M, (image.shape[1], image.shape[0]))\n",
    "\n",
    "def rotate_detect(image):\n",
    "    for theta in range(0, 360):\n",
    "        img = rotate(image, -theta, (original_image.shape[0] / 2, original_image.shape[1] / 2))\n",
    "\n",
    "        gray = cv.cvtColor(img, cv.COLOR_BGR2GRAY)\n",
    "\n",
    "        start = timer()\n",
    "        harris_cv = cv.goodFeaturesToTrack(gray, **harris_params)\n",
    "        elapsed_time = timer() - start\n",
    "\n",
    "        for c in harris_cv:\n",
    "            cv.circle(img, (int(c[0,0]), int(c[0,1])), 8, (0,0,255))\n",
    "\n",
    "        yield (img, elapsed_time)\n",
    "\n",
    "play(rotate_detect(original_image), wait=60)"
   ]
  },
  {
   "cell_type": "code",
   "execution_count": null,
   "metadata": {},
   "outputs": [],
   "source": []
  }
 ],
 "metadata": {
  "kernelspec": {
   "display_name": "Python 3",
   "language": "python",
   "name": "python3"
  },
  "language_info": {
   "codemirror_mode": {
    "name": "ipython",
    "version": 3
   },
   "file_extension": ".py",
   "mimetype": "text/x-python",
   "name": "python",
   "nbconvert_exporter": "python",
   "pygments_lexer": "ipython3",
   "version": "3.8.3"
  }
 },
 "nbformat": 4,
 "nbformat_minor": 4
}
